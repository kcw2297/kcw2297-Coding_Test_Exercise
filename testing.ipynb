{
 "cells": [
  {
   "cell_type": "code",
   "execution_count": null,
   "metadata": {},
   "outputs": [],
   "source": []
  },
  {
   "cell_type": "code",
   "execution_count": null,
   "metadata": {},
   "outputs": [],
   "source": []
  },
  {
   "cell_type": "code",
   "execution_count": null,
   "metadata": {},
   "outputs": [],
   "source": []
  },
  {
   "cell_type": "code",
   "execution_count": 1,
   "metadata": {},
   "outputs": [
    {
     "name": "stdout",
     "output_type": "stream",
     "text": [
      "3\n"
     ]
    }
   ],
   "source": [
    "import heapq\n",
    "import sys\n",
    "\n",
    "N = int(input())\n",
    "card_deck = []\n",
    "for _ in range(N):\n",
    "    heapq.heappush(card_deck, int(sys.stdin.readline()))\n",
    "\n",
    "\n",
    "if len(card_deck) == 1: #1개일 경우 비교하지 않아도 된다\n",
    "    print(0)\n",
    "else:\n",
    "    answer = 0\n",
    "    while len(card_deck) > 1: #1개일 경우 비교하지 않아도 된다\n",
    "        temp_1 = heapq.heappop(card_deck) #제일 작은 덱\n",
    "        temp_2 = heapq.heappop(card_deck) #두번째로 작은 덱\n",
    "        answer += temp_1 + temp_2 #현재 비교 횟수를 더해줌\n",
    "        heapq.heappush(card_deck, temp_1 + temp_2) #더한 덱을 다시 넣어줌\n",
    "    \n",
    "    print(answer)"
   ]
  },
  {
   "cell_type": "code",
   "execution_count": null,
   "metadata": {},
   "outputs": [],
   "source": []
  },
  {
   "cell_type": "code",
   "execution_count": null,
   "metadata": {},
   "outputs": [],
   "source": []
  }
 ],
 "metadata": {
  "kernelspec": {
   "display_name": "Python 3.10.5 64-bit",
   "language": "python",
   "name": "python3"
  },
  "language_info": {
   "codemirror_mode": {
    "name": "ipython",
    "version": 3
   },
   "file_extension": ".py",
   "mimetype": "text/x-python",
   "name": "python",
   "nbconvert_exporter": "python",
   "pygments_lexer": "ipython3",
   "version": "3.10.5"
  },
  "orig_nbformat": 4,
  "vscode": {
   "interpreter": {
    "hash": "df95319d8ce4e1d89f5365ae10992bc1f65da593082b1d264e8f529830ec2f02"
   }
  }
 },
 "nbformat": 4,
 "nbformat_minor": 2
}
