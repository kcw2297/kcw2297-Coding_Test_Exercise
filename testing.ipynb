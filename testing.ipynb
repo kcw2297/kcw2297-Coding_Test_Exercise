{
 "cells": [
  {
   "cell_type": "code",
   "execution_count": null,
   "metadata": {},
   "outputs": [],
   "source": []
  },
  {
   "cell_type": "code",
   "execution_count": 1,
   "metadata": {},
   "outputs": [
    {
     "name": "stdout",
     "output_type": "stream",
     "text": [
      "1\n",
      "1\n",
      "1\n"
     ]
    }
   ],
   "source": []
  },
  {
   "cell_type": "code",
   "execution_count": null,
   "metadata": {},
   "outputs": [],
   "source": [
    "import sys\n",
    "count_a = int(sys.stdin.readline())\n",
    "a_list = list(map(int, sys.stdin.readline().split()))\n",
    "count_b = int(sys.stdin.readline())\n",
    "b_list = list(map(int, sys.stdin.readline().split()))\n",
    "\n",
    "a_list.sort()\n",
    "\n",
    "for i in b_list:\n",
    "    flag = 1\n",
    "    s = 0\n",
    "    e = len(a_list)-1\n",
    "    while s < e:\n",
    "        mid = (s+e)//2\n",
    "\n",
    "        if a_list[mid] == i:\n",
    "            print(1)\n",
    "            flag = 0\n",
    "            break\n",
    "\n",
    "        if a_list[mid] > i:\n",
    "            s = mid + 1\n",
    "            continue\n",
    "\n",
    "        else:\n",
    "            e = mid - 1\n",
    "            continue\n",
    "\n",
    "    if flag:\n",
    "        print(0)\n",
    "\n",
    "\n",
    "\n",
    "\n",
    "\n"
   ]
  },
  {
   "cell_type": "code",
   "execution_count": null,
   "metadata": {},
   "outputs": [],
   "source": []
  },
  {
   "cell_type": "code",
   "execution_count": null,
   "metadata": {},
   "outputs": [],
   "source": []
  },
  {
   "cell_type": "code",
   "execution_count": null,
   "metadata": {},
   "outputs": [],
   "source": []
  }
 ],
 "metadata": {
  "kernelspec": {
   "display_name": "Python 3.10.5 64-bit",
   "language": "python",
   "name": "python3"
  },
  "language_info": {
   "codemirror_mode": {
    "name": "ipython",
    "version": 3
   },
   "file_extension": ".py",
   "mimetype": "text/x-python",
   "name": "python",
   "nbconvert_exporter": "python",
   "pygments_lexer": "ipython3",
   "version": "3.10.5"
  },
  "orig_nbformat": 4,
  "vscode": {
   "interpreter": {
    "hash": "df95319d8ce4e1d89f5365ae10992bc1f65da593082b1d264e8f529830ec2f02"
   }
  }
 },
 "nbformat": 4,
 "nbformat_minor": 2
}
