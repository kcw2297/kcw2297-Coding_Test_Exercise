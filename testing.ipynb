{
 "cells": [
  {
   "cell_type": "code",
   "execution_count": 6,
   "metadata": {},
   "outputs": [
    {
     "data": {
      "text/plain": [
       "True"
      ]
     },
     "execution_count": 6,
     "metadata": {},
     "output_type": "execute_result"
    }
   ],
   "source": [
    "#스택\n",
    "import sys\n",
    "n = int(sys.stdin.readline())\n",
    "\n",
    "stack = []\n",
    "for i in range(n):\n",
    "  command = sys.stdin.readline().split()\n",
    "\n",
    "  if command[0] == 'push':\n",
    "    stack.append(command[1])\n",
    "    \n",
    "  elif command[0] == 'pop':\n",
    "    if len(stack)==0:\n",
    "      print(-1)\n",
    "    else:\n",
    "      print(stack.pop())\n",
    "      \n",
    "  elif command[0] == 'size':\n",
    "    print(len(stack))\n",
    "    \n",
    "  elif command[0] == 'empty':\n",
    "    if len(stack)==0:\n",
    "      print(1)\n",
    "    else:\n",
    "      print(0)"
   ]
  },
  {
   "cell_type": "code",
   "execution_count": 1,
   "metadata": {},
   "outputs": [
    {
     "data": {
      "text/plain": [
       "-1"
      ]
     },
     "execution_count": 1,
     "metadata": {},
     "output_type": "execute_result"
    }
   ],
   "source": []
  },
  {
   "cell_type": "code",
   "execution_count": null,
   "metadata": {},
   "outputs": [],
   "source": []
  }
 ],
 "metadata": {
  "kernelspec": {
   "display_name": "Python 3.10.5 64-bit",
   "language": "python",
   "name": "python3"
  },
  "language_info": {
   "codemirror_mode": {
    "name": "ipython",
    "version": 3
   },
   "file_extension": ".py",
   "mimetype": "text/x-python",
   "name": "python",
   "nbconvert_exporter": "python",
   "pygments_lexer": "ipython3",
   "version": "3.10.5"
  },
  "orig_nbformat": 4,
  "vscode": {
   "interpreter": {
    "hash": "df95319d8ce4e1d89f5365ae10992bc1f65da593082b1d264e8f529830ec2f02"
   }
  }
 },
 "nbformat": 4,
 "nbformat_minor": 2
}
